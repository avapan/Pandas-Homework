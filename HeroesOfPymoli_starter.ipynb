{
 "cells": [
  {
   "cell_type": "markdown",
   "metadata": {},
   "source": [
    "### Heroes Of Pymoli Data Analysis\n",
    "* Of the 1163 active players, the vast majority are male (84%). There also exists, a smaller, but notable proportion of female players (14%).\n",
    "\n",
    "* Our peak age demographic falls between 20-24 (44.8%) with secondary groups falling between 15-19 (18.60%) and 25-29 (13.4%).  \n",
    "-----"
   ]
  },
  {
   "cell_type": "markdown",
   "metadata": {},
   "source": [
    "### Note\n",
    "* Instructions have been included for each segment. You do not have to follow them exactly, but they are included to help you think through the steps."
   ]
  },
  {
   "cell_type": "code",
   "execution_count": 1,
   "metadata": {},
   "outputs": [],
   "source": [
    "# Dependencies and Setup\n",
    "import pandas as pd\n",
    "import numpy as np\n",
    "\n",
    "# File to Load (Remember to Change These)\n",
    "file_to_load = \"Resources/purchase_data.csv\"\n",
    "\n",
    "# Read Purchasing File and store into Pandas data frame\n",
    "purchase_data = pd.read_csv(file_to_load)"
   ]
  },
  {
   "cell_type": "markdown",
   "metadata": {},
   "source": [
    "## Player Count"
   ]
  },
  {
   "cell_type": "markdown",
   "metadata": {},
   "source": [
    "* Display the total number of players\n"
   ]
  },
  {
   "cell_type": "code",
   "execution_count": 7,
   "metadata": {},
   "outputs": [
    {
     "data": {
      "text/html": [
       "<div>\n",
       "<style scoped>\n",
       "    .dataframe tbody tr th:only-of-type {\n",
       "        vertical-align: middle;\n",
       "    }\n",
       "\n",
       "    .dataframe tbody tr th {\n",
       "        vertical-align: top;\n",
       "    }\n",
       "\n",
       "    .dataframe thead th {\n",
       "        text-align: right;\n",
       "    }\n",
       "</style>\n",
       "<table border=\"1\" class=\"dataframe\">\n",
       "  <thead>\n",
       "    <tr style=\"text-align: right;\">\n",
       "      <th></th>\n",
       "      <th>Total Players</th>\n",
       "    </tr>\n",
       "  </thead>\n",
       "  <tbody>\n",
       "    <tr>\n",
       "      <th>0</th>\n",
       "      <td>576</td>\n",
       "    </tr>\n",
       "  </tbody>\n",
       "</table>\n",
       "</div>"
      ],
      "text/plain": [
       "   Total Players\n",
       "0            576"
      ]
     },
     "execution_count": 7,
     "metadata": {},
     "output_type": "execute_result"
    }
   ],
   "source": [
    "playercount = len(purchase_data[\"SN\"].value_counts())\n",
    "pd.DataFrame([playercount], columns = [\"Total Players\"])"
   ]
  },
  {
   "cell_type": "markdown",
   "metadata": {},
   "source": [
    "## Purchasing Analysis (Total)"
   ]
  },
  {
   "cell_type": "markdown",
   "metadata": {},
   "source": [
    "* Run basic calculations to obtain number of unique items, average price, etc.\n",
    "\n",
    "\n",
    "* Create a summary data frame to hold the results\n",
    "\n",
    "\n",
    "* Optional: give the displayed data cleaner formatting\n",
    "\n",
    "\n",
    "* Display the summary data frame\n"
   ]
  },
  {
   "cell_type": "code",
   "execution_count": 14,
   "metadata": {
    "scrolled": true
   },
   "outputs": [
    {
     "data": {
      "text/html": [
       "<div>\n",
       "<style scoped>\n",
       "    .dataframe tbody tr th:only-of-type {\n",
       "        vertical-align: middle;\n",
       "    }\n",
       "\n",
       "    .dataframe tbody tr th {\n",
       "        vertical-align: top;\n",
       "    }\n",
       "\n",
       "    .dataframe thead th {\n",
       "        text-align: right;\n",
       "    }\n",
       "</style>\n",
       "<table border=\"1\" class=\"dataframe\">\n",
       "  <thead>\n",
       "    <tr style=\"text-align: right;\">\n",
       "      <th></th>\n",
       "      <th>Number of Unique Items</th>\n",
       "      <th>Average Price</th>\n",
       "      <th>Number of Purchases</th>\n",
       "      <th>Total Revenue</th>\n",
       "    </tr>\n",
       "  </thead>\n",
       "  <tbody>\n",
       "    <tr>\n",
       "      <th>0</th>\n",
       "      <td>179</td>\n",
       "      <td>$3.05</td>\n",
       "      <td>780</td>\n",
       "      <td>$2379.77</td>\n",
       "    </tr>\n",
       "  </tbody>\n",
       "</table>\n",
       "</div>"
      ],
      "text/plain": [
       "   Number of Unique Items Average Price  Number of Purchases Total Revenue\n",
       "0                     179         $3.05                  780      $2379.77"
      ]
     },
     "execution_count": 14,
     "metadata": {},
     "output_type": "execute_result"
    }
   ],
   "source": [
    "num_unique_items = len(purchase_data[\"Item Name\"].value_counts())\n",
    "avg_price = round(purchase_data[\"Price\"].mean(), 2)\n",
    "num_purchases = purchase_data[\"Price\"].count()\n",
    "total_revenue = round(purchase_data[\"Price\"].sum(), 2)\n",
    "\n",
    "purchase_analysis = []\n",
    "\n",
    "purchase_analysis.append(num_unique_items)\n",
    "purchase_analysis.append(\"$\" + str(avg_price))\n",
    "purchase_analysis.append(num_purchases)\n",
    "purchase_analysis.append(\"$\" + str(total_revenue))\n",
    "\n",
    "summary_data = pd.DataFrame([purchase_analysis], columns = [\"Number of Unique Items\", \"Average Price\", \"Number of Purchases\", \"Total Revenue\"])\n",
    "summary_data"
   ]
  },
  {
   "cell_type": "markdown",
   "metadata": {},
   "source": [
    "## Gender Demographics"
   ]
  },
  {
   "cell_type": "markdown",
   "metadata": {},
   "source": [
    "* Percentage and Count of Male Players\n",
    "\n",
    "\n",
    "* Percentage and Count of Female Players\n",
    "\n",
    "\n",
    "* Percentage and Count of Other / Non-Disclosed\n",
    "\n",
    "\n"
   ]
  },
  {
   "cell_type": "code",
   "execution_count": 18,
   "metadata": {},
   "outputs": [
    {
     "data": {
      "text/html": [
       "<style  type=\"text/css\" >\n",
       "</style>  \n",
       "<table id=\"T_ff6ee026_e490_11e8_8531_28565a51d56c\" > \n",
       "<thead>    <tr> \n",
       "        <th class=\"blank level0\" ></th> \n",
       "        <th class=\"col_heading level0 col0\" >Total Count</th> \n",
       "        <th class=\"col_heading level0 col1\" >Percentage of Players</th> \n",
       "    </tr>    <tr> \n",
       "        <th class=\"index_name level0\" >Gender</th> \n",
       "        <th class=\"blank\" ></th> \n",
       "        <th class=\"blank\" ></th> \n",
       "    </tr></thead> \n",
       "<tbody>    <tr> \n",
       "        <th id=\"T_ff6ee026_e490_11e8_8531_28565a51d56clevel0_row0\" class=\"row_heading level0 row0\" >Male</th> \n",
       "        <td id=\"T_ff6ee026_e490_11e8_8531_28565a51d56crow0_col0\" class=\"data row0 col0\" >484</td> \n",
       "        <td id=\"T_ff6ee026_e490_11e8_8531_28565a51d56crow0_col1\" class=\"data row0 col1\" >84.03%</td> \n",
       "    </tr>    <tr> \n",
       "        <th id=\"T_ff6ee026_e490_11e8_8531_28565a51d56clevel0_row1\" class=\"row_heading level0 row1\" >Female</th> \n",
       "        <td id=\"T_ff6ee026_e490_11e8_8531_28565a51d56crow1_col0\" class=\"data row1 col0\" >81</td> \n",
       "        <td id=\"T_ff6ee026_e490_11e8_8531_28565a51d56crow1_col1\" class=\"data row1 col1\" >14.06%</td> \n",
       "    </tr>    <tr> \n",
       "        <th id=\"T_ff6ee026_e490_11e8_8531_28565a51d56clevel0_row2\" class=\"row_heading level0 row2\" >Other / Non-Disclosed</th> \n",
       "        <td id=\"T_ff6ee026_e490_11e8_8531_28565a51d56crow2_col0\" class=\"data row2 col0\" >11</td> \n",
       "        <td id=\"T_ff6ee026_e490_11e8_8531_28565a51d56crow2_col1\" class=\"data row2 col1\" >1.91%</td> \n",
       "    </tr></tbody> \n",
       "</table> "
      ],
      "text/plain": [
       "<pandas.io.formats.style.Styler at 0x21994545630>"
      ]
     },
     "execution_count": 18,
     "metadata": {},
     "output_type": "execute_result"
    }
   ],
   "source": [
    "total_count = purchase_data[\"SN\"].nunique()\n",
    "male_count = purchase_data[purchase_data[\"Gender\"] == \"Male\"][\"SN\"].nunique()\n",
    "female_count = purchase_data[purchase_data[\"Gender\"] == \"Female\"][\"SN\"].nunique()\n",
    "other_count = total_count - male_count - female_count\n",
    "percentage_male = ((male_count/total_count)*100)\n",
    "percentage_female = ((female_count/total_count)*100) \n",
    "percentage_other = ((other_count/total_count)*100)\n",
    "\n",
    "gender_df = pd.DataFrame({\"Gender\": [\"Male\", \"Female\", \"Other / Non-Disclosed\"],\"Total Count\": [male_count, female_count, other_count], \"Percentage of Players\": [percentage_male, percentage_female, percentage_other],\n",
    "                                        }, columns = [\"Gender\",\"Total Count\", \"Percentage of Players\"])\n",
    "                                        \n",
    "gender_summary = gender_df.set_index(\"Gender\")\n",
    "gender_summary.style.format({\"Percentage of Players\": \"{:.2f}%\"})"
   ]
  },
  {
   "cell_type": "markdown",
   "metadata": {},
   "source": [
    "\n",
    "## Purchasing Analysis (Gender)"
   ]
  },
  {
   "cell_type": "markdown",
   "metadata": {},
   "source": [
    "* Run basic calculations to obtain purchase count, avg. purchase price, avg. purchase total per person etc. by gender\n",
    "\n",
    "\n",
    "\n",
    "\n",
    "* Create a summary data frame to hold the results\n",
    "\n",
    "\n",
    "* Optional: give the displayed data cleaner formatting\n",
    "\n",
    "\n",
    "* Display the summary data frame"
   ]
  },
  {
   "cell_type": "code",
   "execution_count": 24,
   "metadata": {},
   "outputs": [
    {
     "data": {
      "text/html": [
       "<style  type=\"text/css\" >\n",
       "</style>  \n",
       "<table id=\"T_2358d18a_e494_11e8_a136_28565a51d56c\" > \n",
       "<thead>    <tr> \n",
       "        <th class=\"blank level0\" ></th> \n",
       "        <th class=\"col_heading level0 col0\" >Purchase Count</th> \n",
       "        <th class=\"col_heading level0 col1\" >Average Purchase Price</th> \n",
       "        <th class=\"col_heading level0 col2\" >Total Purchase Value</th> \n",
       "        <th class=\"col_heading level0 col3\" >Avg Total Purchase per Person</th> \n",
       "    </tr>    <tr> \n",
       "        <th class=\"index_name level0\" >Gender</th> \n",
       "        <th class=\"blank\" ></th> \n",
       "        <th class=\"blank\" ></th> \n",
       "        <th class=\"blank\" ></th> \n",
       "        <th class=\"blank\" ></th> \n",
       "    </tr></thead> \n",
       "<tbody>    <tr> \n",
       "        <th id=\"T_2358d18a_e494_11e8_a136_28565a51d56clevel0_row0\" class=\"row_heading level0 row0\" >Female</th> \n",
       "        <td id=\"T_2358d18a_e494_11e8_a136_28565a51d56crow0_col0\" class=\"data row0 col0\" >113</td> \n",
       "        <td id=\"T_2358d18a_e494_11e8_a136_28565a51d56crow0_col1\" class=\"data row0 col1\" >$3.20</td> \n",
       "        <td id=\"T_2358d18a_e494_11e8_a136_28565a51d56crow0_col2\" class=\"data row0 col2\" >$361.94</td> \n",
       "        <td id=\"T_2358d18a_e494_11e8_a136_28565a51d56crow0_col3\" class=\"data row0 col3\" >$4.07</td> \n",
       "    </tr>    <tr> \n",
       "        <th id=\"T_2358d18a_e494_11e8_a136_28565a51d56clevel0_row1\" class=\"row_heading level0 row1\" >Male</th> \n",
       "        <td id=\"T_2358d18a_e494_11e8_a136_28565a51d56crow1_col0\" class=\"data row1 col0\" >652</td> \n",
       "        <td id=\"T_2358d18a_e494_11e8_a136_28565a51d56crow1_col1\" class=\"data row1 col1\" >$3.02</td> \n",
       "        <td id=\"T_2358d18a_e494_11e8_a136_28565a51d56crow1_col2\" class=\"data row1 col2\" >$1967.64</td> \n",
       "        <td id=\"T_2358d18a_e494_11e8_a136_28565a51d56crow1_col3\" class=\"data row1 col3\" >$4.47</td> \n",
       "    </tr>    <tr> \n",
       "        <th id=\"T_2358d18a_e494_11e8_a136_28565a51d56clevel0_row2\" class=\"row_heading level0 row2\" >Other / Non-Disclosed</th> \n",
       "        <td id=\"T_2358d18a_e494_11e8_a136_28565a51d56crow2_col0\" class=\"data row2 col0\" >15</td> \n",
       "        <td id=\"T_2358d18a_e494_11e8_a136_28565a51d56crow2_col1\" class=\"data row2 col1\" >$3.35</td> \n",
       "        <td id=\"T_2358d18a_e494_11e8_a136_28565a51d56crow2_col2\" class=\"data row2 col2\" >$50.19</td> \n",
       "        <td id=\"T_2358d18a_e494_11e8_a136_28565a51d56crow2_col3\" class=\"data row2 col3\" >$4.56</td> \n",
       "    </tr></tbody> \n",
       "</table> "
      ],
      "text/plain": [
       "<pandas.io.formats.style.Styler at 0x219986e5a58>"
      ]
     },
     "execution_count": 24,
     "metadata": {},
     "output_type": "execute_result"
    }
   ],
   "source": [
    "total_purchase = purchase_data[\"Price\"].count()\n",
    "male_purchase= purchase_data[purchase_data[\"Gender\"] == \"Male\"][\"Price\"].count()\n",
    "female_purchase = purchase_data[purchase_data[\"Gender\"] == \"Female\"][\"Price\"].count()\n",
    "other_purchase = total_purchase - male_purchase - female_purchase\n",
    "male_price_avg = purchase_data[purchase_data[\"Gender\"] == \"Male\"]['Price'].mean()\n",
    "female_price_avg= purchase_data[purchase_data[\"Gender\"] == \"Female\"]['Price'].mean()\n",
    "other_price_avg = purchase_data[purchase_data[\"Gender\"] == \"Other / Non-Disclosed\"]['Price'].mean()\n",
    "male_price_ttl = purchase_data[purchase_data[\"Gender\"] == \"Male\"]['Price'].sum()\n",
    "female_price_ttl = purchase_data[purchase_data[\"Gender\"] == \"Female\"]['Price'].sum()\n",
    "other_price_ttl = purchase_data[purchase_data[\"Gender\"] == \"Other / Non-Disclosed\"]['Price'].sum()\n",
    "female_avg_purchase = male_price_ttl/male_count\n",
    "male_avg_purchase = female_price_ttl/female_count\n",
    "other_avg_purchase = other_price_ttl/other_count\n",
    "\n",
    "gender_purchase_df = pd.DataFrame({\"Gender\": [\"Female\", \"Male\", \"Other / Non-Disclosed\"], \"Purchase Count\": [female_purchase, male_purchase, other_purchase],\n",
    "                                        \"Average Purchase Price\": [female_price_avg, male_price_avg, other_price_avg], \"Total Purchase Value\": [female_price_ttl, male_price_ttl, other_price_ttl],\n",
    "                                \"Avg Total Purchase per Person\": [female_avg_purchase,male_avg_purchase,other_avg_purchase ]}, columns = \n",
    "                                        [\"Gender\", \"Purchase Count\", \"Average Purchase Price\", \"Total Purchase Value\", \"Avg Total Purchase per Person\"])\n",
    "                                        \n",
    "gender_purchase_summary = gender_purchase_df.set_index(\"Gender\")\n",
    "gender_purchase_summary.style.format({\"Average Purchase Price\": \"${:.2f}\", \"Total Purchase Value\": \"${:.2f}\", \"Avg Total Purchase per Person\": \"${:.2f}\"})"
   ]
  },
  {
   "cell_type": "markdown",
   "metadata": {},
   "source": [
    "## Age Demographics"
   ]
  },
  {
   "cell_type": "markdown",
   "metadata": {},
   "source": [
    "* Establish bins for ages\n",
    "\n",
    "\n",
    "* Categorize the existing players using the age bins. Hint: use pd.cut()\n",
    "\n",
    "\n",
    "* Calculate the numbers and percentages by age group\n",
    "\n",
    "\n",
    "* Create a summary data frame to hold the results\n",
    "\n",
    "\n",
    "* Optional: round the percentage column to two decimal points\n",
    "\n",
    "\n",
    "* Display Age Demographics Table\n"
   ]
  },
  {
   "cell_type": "code",
   "execution_count": 33,
   "metadata": {},
   "outputs": [
    {
     "data": {
      "text/html": [
       "<style  type=\"text/css\" >\n",
       "</style>  \n",
       "<table id=\"T_ad372fca_e497_11e8_b23c_28565a51d56c\" > \n",
       "<thead>    <tr> \n",
       "        <th class=\"blank level0\" ></th> \n",
       "        <th class=\"col_heading level0 col0\" >Total Count</th> \n",
       "        <th class=\"col_heading level0 col1\" >Percentage of Players</th> \n",
       "    </tr>    <tr> \n",
       "        <th class=\"index_name level0\" >Age</th> \n",
       "        <th class=\"blank\" ></th> \n",
       "        <th class=\"blank\" ></th> \n",
       "    </tr></thead> \n",
       "<tbody>    <tr> \n",
       "        <th id=\"T_ad372fca_e497_11e8_b23c_28565a51d56clevel0_row0\" class=\"row_heading level0 row0\" ><10</th> \n",
       "        <td id=\"T_ad372fca_e497_11e8_b23c_28565a51d56crow0_col0\" class=\"data row0 col0\" >17</td> \n",
       "        <td id=\"T_ad372fca_e497_11e8_b23c_28565a51d56crow0_col1\" class=\"data row0 col1\" >2.95%</td> \n",
       "    </tr>    <tr> \n",
       "        <th id=\"T_ad372fca_e497_11e8_b23c_28565a51d56clevel0_row1\" class=\"row_heading level0 row1\" >10-14</th> \n",
       "        <td id=\"T_ad372fca_e497_11e8_b23c_28565a51d56crow1_col0\" class=\"data row1 col0\" >576</td> \n",
       "        <td id=\"T_ad372fca_e497_11e8_b23c_28565a51d56crow1_col1\" class=\"data row1 col1\" >100.00%</td> \n",
       "    </tr>    <tr> \n",
       "        <th id=\"T_ad372fca_e497_11e8_b23c_28565a51d56clevel0_row2\" class=\"row_heading level0 row2\" >15-19</th> \n",
       "        <td id=\"T_ad372fca_e497_11e8_b23c_28565a51d56crow2_col0\" class=\"data row2 col0\" >576</td> \n",
       "        <td id=\"T_ad372fca_e497_11e8_b23c_28565a51d56crow2_col1\" class=\"data row2 col1\" >100.00%</td> \n",
       "    </tr>    <tr> \n",
       "        <th id=\"T_ad372fca_e497_11e8_b23c_28565a51d56clevel0_row3\" class=\"row_heading level0 row3\" >20-24</th> \n",
       "        <td id=\"T_ad372fca_e497_11e8_b23c_28565a51d56crow3_col0\" class=\"data row3 col0\" >576</td> \n",
       "        <td id=\"T_ad372fca_e497_11e8_b23c_28565a51d56crow3_col1\" class=\"data row3 col1\" >100.00%</td> \n",
       "    </tr>    <tr> \n",
       "        <th id=\"T_ad372fca_e497_11e8_b23c_28565a51d56clevel0_row4\" class=\"row_heading level0 row4\" >25-29</th> \n",
       "        <td id=\"T_ad372fca_e497_11e8_b23c_28565a51d56crow4_col0\" class=\"data row4 col0\" >576</td> \n",
       "        <td id=\"T_ad372fca_e497_11e8_b23c_28565a51d56crow4_col1\" class=\"data row4 col1\" >100.00%</td> \n",
       "    </tr>    <tr> \n",
       "        <th id=\"T_ad372fca_e497_11e8_b23c_28565a51d56clevel0_row5\" class=\"row_heading level0 row5\" >30-34</th> \n",
       "        <td id=\"T_ad372fca_e497_11e8_b23c_28565a51d56crow5_col0\" class=\"data row5 col0\" >576</td> \n",
       "        <td id=\"T_ad372fca_e497_11e8_b23c_28565a51d56crow5_col1\" class=\"data row5 col1\" >100.00%</td> \n",
       "    </tr>    <tr> \n",
       "        <th id=\"T_ad372fca_e497_11e8_b23c_28565a51d56clevel0_row6\" class=\"row_heading level0 row6\" >35-39</th> \n",
       "        <td id=\"T_ad372fca_e497_11e8_b23c_28565a51d56crow6_col0\" class=\"data row6 col0\" >576</td> \n",
       "        <td id=\"T_ad372fca_e497_11e8_b23c_28565a51d56crow6_col1\" class=\"data row6 col1\" >100.00%</td> \n",
       "    </tr>    <tr> \n",
       "        <th id=\"T_ad372fca_e497_11e8_b23c_28565a51d56clevel0_row7\" class=\"row_heading level0 row7\" >40+</th> \n",
       "        <td id=\"T_ad372fca_e497_11e8_b23c_28565a51d56crow7_col0\" class=\"data row7 col0\" >12</td> \n",
       "        <td id=\"T_ad372fca_e497_11e8_b23c_28565a51d56crow7_col1\" class=\"data row7 col1\" >2.08%</td> \n",
       "    </tr></tbody> \n",
       "</table> "
      ],
      "text/plain": [
       "<pandas.io.formats.style.Styler at 0x21999cc9898>"
      ]
     },
     "execution_count": 33,
     "metadata": {},
     "output_type": "execute_result"
    }
   ],
   "source": [
    "lessten = purchase_data[purchase_data[\"Age\"] <10]\n",
    "lessftn = purchase_data[purchase_data[\"Age\"] >=10 & (purchase_data[\"Age\"] <=14)]\n",
    "lessntn = purchase_data[purchase_data[\"Age\"] >=15 & (purchase_data[\"Age\"] <=19)]\n",
    "lesstwf = purchase_data[purchase_data[\"Age\"] >=20 & (purchase_data[\"Age\"] <=24)]\n",
    "lesstwn = purchase_data[purchase_data[\"Age\"] >=25 & (purchase_data[\"Age\"] <=29)]\n",
    "lesstrf = purchase_data[purchase_data[\"Age\"] >=30 & (purchase_data[\"Age\"] <=34)]\n",
    "lesstrn = purchase_data[purchase_data[\"Age\"] >=35 & (purchase_data[\"Age\"] <=39)]\n",
    "ftymore = purchase_data[purchase_data[\"Age\"] >=40]\n",
    "\n",
    "age_demo_df = pd.DataFrame({\"Age\": [\"<10\", \"10-14\", \"15-19\", \"20-24\", \"25-29\", \"30-34\", \"35-39\", \"40+\"],\n",
    "                            \"Total Count\": [lessten[\"SN\"].nunique(), lessftn[\"SN\"].nunique(), lessntn[\"SN\"].nunique(), lesstwf[\"SN\"].nunique(),lesstwn[\"SN\"].nunique(), lesstrf[\"SN\"].nunique(), lesstrn[\"SN\"].nunique(), ftymore[\"SN\"].nunique()],\n",
    "                           \"Percentage of Players\": [(lessten[\"SN\"].nunique()/total_count)*100, (lessftn[\"SN\"].nunique()/total_count)*100, (lessntn[\"SN\"].nunique()/total_count)*100, (lesstwf[\"SN\"].nunique()/total_count)*100, (lesstwn[\"SN\"].nunique()/total_count)*100, (lesstrf[\"SN\"].nunique()/total_count)*100, (lesstrn[\"SN\"].nunique()/total_count)*100, (ftymore[\"SN\"].nunique()/total_count)*100]\n",
    "                        })\n",
    "\n",
    "age_demo_summary = age_demo_df.set_index(\"Age\")\n",
    "age_demo_summary.style.format({\"Percentage of Players\": \"{:.2f}%\"})"
   ]
  },
  {
   "cell_type": "markdown",
   "metadata": {},
   "source": [
    "## Purchasing Analysis (Age)"
   ]
  },
  {
   "cell_type": "markdown",
   "metadata": {},
   "source": [
    "* Bin the purchase_data data frame by age\n",
    "\n",
    "\n",
    "* Run basic calculations to obtain purchase count, avg. purchase price, avg. purchase total per person etc. in the table below\n",
    "\n",
    "\n",
    "* Create a summary data frame to hold the results\n",
    "\n",
    "\n",
    "* Optional: give the displayed data cleaner formatting\n",
    "\n",
    "\n",
    "* Display the summary data frame"
   ]
  },
  {
   "cell_type": "code",
   "execution_count": 47,
   "metadata": {},
   "outputs": [
    {
     "data": {
      "text/html": [
       "<style  type=\"text/css\" >\n",
       "</style>  \n",
       "<table id=\"T_3c2dd9cc_e49c_11e8_9783_28565a51d56c\" > \n",
       "<thead>    <tr> \n",
       "        <th class=\"blank level0\" ></th> \n",
       "        <th class=\"col_heading level0 col0\" >Purchase Count</th> \n",
       "        <th class=\"col_heading level0 col1\" >Average Purchase Price</th> \n",
       "        <th class=\"col_heading level0 col2\" >Total Purchase Value</th> \n",
       "        <th class=\"col_heading level0 col3\" >Avg Total Purchase per Person</th> \n",
       "    </tr>    <tr> \n",
       "        <th class=\"index_name level0\" >Age</th> \n",
       "        <th class=\"blank\" ></th> \n",
       "        <th class=\"blank\" ></th> \n",
       "        <th class=\"blank\" ></th> \n",
       "        <th class=\"blank\" ></th> \n",
       "    </tr></thead> \n",
       "<tbody>    <tr> \n",
       "        <th id=\"T_3c2dd9cc_e49c_11e8_9783_28565a51d56clevel0_row0\" class=\"row_heading level0 row0\" ><10</th> \n",
       "        <td id=\"T_3c2dd9cc_e49c_11e8_9783_28565a51d56crow0_col0\" class=\"data row0 col0\" >23</td> \n",
       "        <td id=\"T_3c2dd9cc_e49c_11e8_9783_28565a51d56crow0_col1\" class=\"data row0 col1\" >$3.35</td> \n",
       "        <td id=\"T_3c2dd9cc_e49c_11e8_9783_28565a51d56crow0_col2\" class=\"data row0 col2\" >$77.13</td> \n",
       "        <td id=\"T_3c2dd9cc_e49c_11e8_9783_28565a51d56crow0_col3\" class=\"data row0 col3\" >$4.54</td> \n",
       "    </tr>    <tr> \n",
       "        <th id=\"T_3c2dd9cc_e49c_11e8_9783_28565a51d56clevel0_row1\" class=\"row_heading level0 row1\" >10-14</th> \n",
       "        <td id=\"T_3c2dd9cc_e49c_11e8_9783_28565a51d56crow1_col0\" class=\"data row1 col0\" >780</td> \n",
       "        <td id=\"T_3c2dd9cc_e49c_11e8_9783_28565a51d56crow1_col1\" class=\"data row1 col1\" >$3.05</td> \n",
       "        <td id=\"T_3c2dd9cc_e49c_11e8_9783_28565a51d56crow1_col2\" class=\"data row1 col2\" >$2379.77</td> \n",
       "        <td id=\"T_3c2dd9cc_e49c_11e8_9783_28565a51d56crow1_col3\" class=\"data row1 col3\" >$4.13</td> \n",
       "    </tr>    <tr> \n",
       "        <th id=\"T_3c2dd9cc_e49c_11e8_9783_28565a51d56clevel0_row2\" class=\"row_heading level0 row2\" >15-19</th> \n",
       "        <td id=\"T_3c2dd9cc_e49c_11e8_9783_28565a51d56crow2_col0\" class=\"data row2 col0\" >780</td> \n",
       "        <td id=\"T_3c2dd9cc_e49c_11e8_9783_28565a51d56crow2_col1\" class=\"data row2 col1\" >$3.05</td> \n",
       "        <td id=\"T_3c2dd9cc_e49c_11e8_9783_28565a51d56crow2_col2\" class=\"data row2 col2\" >$2379.77</td> \n",
       "        <td id=\"T_3c2dd9cc_e49c_11e8_9783_28565a51d56crow2_col3\" class=\"data row2 col3\" >$4.13</td> \n",
       "    </tr>    <tr> \n",
       "        <th id=\"T_3c2dd9cc_e49c_11e8_9783_28565a51d56clevel0_row3\" class=\"row_heading level0 row3\" >20-24</th> \n",
       "        <td id=\"T_3c2dd9cc_e49c_11e8_9783_28565a51d56crow3_col0\" class=\"data row3 col0\" >780</td> \n",
       "        <td id=\"T_3c2dd9cc_e49c_11e8_9783_28565a51d56crow3_col1\" class=\"data row3 col1\" >$3.05</td> \n",
       "        <td id=\"T_3c2dd9cc_e49c_11e8_9783_28565a51d56crow3_col2\" class=\"data row3 col2\" >$2379.77</td> \n",
       "        <td id=\"T_3c2dd9cc_e49c_11e8_9783_28565a51d56crow3_col3\" class=\"data row3 col3\" >$4.13</td> \n",
       "    </tr>    <tr> \n",
       "        <th id=\"T_3c2dd9cc_e49c_11e8_9783_28565a51d56clevel0_row4\" class=\"row_heading level0 row4\" >25-29</th> \n",
       "        <td id=\"T_3c2dd9cc_e49c_11e8_9783_28565a51d56crow4_col0\" class=\"data row4 col0\" >780</td> \n",
       "        <td id=\"T_3c2dd9cc_e49c_11e8_9783_28565a51d56crow4_col1\" class=\"data row4 col1\" >$3.05</td> \n",
       "        <td id=\"T_3c2dd9cc_e49c_11e8_9783_28565a51d56crow4_col2\" class=\"data row4 col2\" >$2379.77</td> \n",
       "        <td id=\"T_3c2dd9cc_e49c_11e8_9783_28565a51d56crow4_col3\" class=\"data row4 col3\" >$4.13</td> \n",
       "    </tr>    <tr> \n",
       "        <th id=\"T_3c2dd9cc_e49c_11e8_9783_28565a51d56clevel0_row5\" class=\"row_heading level0 row5\" >30-34</th> \n",
       "        <td id=\"T_3c2dd9cc_e49c_11e8_9783_28565a51d56crow5_col0\" class=\"data row5 col0\" >780</td> \n",
       "        <td id=\"T_3c2dd9cc_e49c_11e8_9783_28565a51d56crow5_col1\" class=\"data row5 col1\" >$3.05</td> \n",
       "        <td id=\"T_3c2dd9cc_e49c_11e8_9783_28565a51d56crow5_col2\" class=\"data row5 col2\" >$2379.77</td> \n",
       "        <td id=\"T_3c2dd9cc_e49c_11e8_9783_28565a51d56crow5_col3\" class=\"data row5 col3\" >$4.13</td> \n",
       "    </tr>    <tr> \n",
       "        <th id=\"T_3c2dd9cc_e49c_11e8_9783_28565a51d56clevel0_row6\" class=\"row_heading level0 row6\" >35-39</th> \n",
       "        <td id=\"T_3c2dd9cc_e49c_11e8_9783_28565a51d56crow6_col0\" class=\"data row6 col0\" >780</td> \n",
       "        <td id=\"T_3c2dd9cc_e49c_11e8_9783_28565a51d56crow6_col1\" class=\"data row6 col1\" >$3.05</td> \n",
       "        <td id=\"T_3c2dd9cc_e49c_11e8_9783_28565a51d56crow6_col2\" class=\"data row6 col2\" >$2379.77</td> \n",
       "        <td id=\"T_3c2dd9cc_e49c_11e8_9783_28565a51d56crow6_col3\" class=\"data row6 col3\" >$4.13</td> \n",
       "    </tr>    <tr> \n",
       "        <th id=\"T_3c2dd9cc_e49c_11e8_9783_28565a51d56clevel0_row7\" class=\"row_heading level0 row7\" >40-44</th> \n",
       "        <td id=\"T_3c2dd9cc_e49c_11e8_9783_28565a51d56crow7_col0\" class=\"data row7 col0\" >13</td> \n",
       "        <td id=\"T_3c2dd9cc_e49c_11e8_9783_28565a51d56crow7_col1\" class=\"data row7 col1\" >$2.94</td> \n",
       "        <td id=\"T_3c2dd9cc_e49c_11e8_9783_28565a51d56crow7_col2\" class=\"data row7 col2\" >$38.24</td> \n",
       "        <td id=\"T_3c2dd9cc_e49c_11e8_9783_28565a51d56crow7_col3\" class=\"data row7 col3\" >$3.19</td> \n",
       "    </tr></tbody> \n",
       "</table> "
      ],
      "text/plain": [
       "<pandas.io.formats.style.Styler at 0x21996a99c50>"
      ]
     },
     "execution_count": 47,
     "metadata": {},
     "output_type": "execute_result"
    }
   ],
   "source": [
    "age_purchase_df = pd.DataFrame({\"Age\": [\"<10\", \"10-14\", \"15-19\", \"20-24\", \"25-29\", \"30-34\", \"35-39\", \"40-44\"],\n",
    "                              \"Purchase Count\": [lessten[\"Price\"].count(), lessftn[\"Price\"].count(), lessntn[\"Price\"].count(), lesstwf[\"Price\"].count(), lesstwn[\"Price\"].count(), lesstrf[\"Price\"].count(), lesstrn[\"Price\"].count(), ftymore[\"Price\"].count()],\n",
    "                              \"Average Purchase Price\": [lessten[\"Price\"].mean(), lessftn[\"Price\"].mean(), lessntn[\"Price\"].mean(), lesstwf[\"Price\"].mean(), lesstwn[\"Price\"].mean(), lesstrf[\"Price\"].mean(), lesstrn[\"Price\"].mean(), ftymore[\"Price\"].mean()], \n",
    "                              \"Total Purchase Value\": [lessten[\"Price\"].sum(), lessftn[\"Price\"].sum(), lessntn[\"Price\"].sum(), lesstwf[\"Price\"].sum(), lesstwn[\"Price\"].sum(), lesstrf[\"Price\"].sum(), lesstrn[\"Price\"].sum(), ftymore[\"Price\"].sum()],\n",
    "                              \"Avg Total Purchase per Person\":[lessten[\"Price\"].sum()/lessten['SN'].nunique(), lessftn[\"Price\"].sum()/lessftn['SN'].nunique(), \n",
    "                                                    lessntn[\"Price\"].sum()/lessntn['SN'].nunique(), lesstwf[\"Price\"].sum()/lesstwf['SN'].nunique(),\n",
    "                                                    lesstwn[\"Price\"].sum()/lesstwn['SN'].nunique(), lesstrf[\"Price\"].sum()/lesstrf['SN'].nunique(), \n",
    "                                                    lesstrn[\"Price\"].sum()/lesstrn['SN'].nunique(), ftymore[\"Price\"].sum()/ftymore['SN'].nunique()]},\n",
    "                                columns = [\"Age\", \"Purchase Count\", \"Average Purchase Price\", \"Total Purchase Value\", \"Avg Total Purchase per Person\"])\n",
    "\n",
    "age_purchase_final = age_purchase_df.set_index(\"Age\")\n",
    "\n",
    "age_purchase_final.style.format({\"Average Purchase Price\": \"${:.2f}\", \"Total Purchase Value\": \"${:.2f}\", \"Avg Total Purchase per Person\": \"${:.2f}\"})"
   ]
  },
  {
   "cell_type": "markdown",
   "metadata": {},
   "source": [
    "## Top Spenders"
   ]
  },
  {
   "cell_type": "markdown",
   "metadata": {},
   "source": [
    "* Run basic calculations to obtain the results in the table below\n",
    "\n",
    "\n",
    "* Create a summary data frame to hold the results\n",
    "\n",
    "\n",
    "* Sort the total purchase value column in descending order\n",
    "\n",
    "\n",
    "* Optional: give the displayed data cleaner formatting\n",
    "\n",
    "\n",
    "* Display a preview of the summary data frame\n",
    "\n"
   ]
  },
  {
   "cell_type": "code",
   "execution_count": 57,
   "metadata": {},
   "outputs": [
    {
     "data": {
      "text/html": [
       "<style  type=\"text/css\" >\n",
       "</style>  \n",
       "<table id=\"T_b59bcfae_e49f_11e8_8f50_28565a51d56c\" > \n",
       "<thead>    <tr> \n",
       "        <th class=\"blank level0\" ></th> \n",
       "        <th class=\"col_heading level0 col0\" >Purchase Count</th> \n",
       "        <th class=\"col_heading level0 col1\" >Average Purchase Price</th> \n",
       "        <th class=\"col_heading level0 col2\" >Total Purchase Value</th> \n",
       "    </tr>    <tr> \n",
       "        <th class=\"index_name level0\" >SN</th> \n",
       "        <th class=\"blank\" ></th> \n",
       "        <th class=\"blank\" ></th> \n",
       "        <th class=\"blank\" ></th> \n",
       "    </tr></thead> \n",
       "<tbody>    <tr> \n",
       "        <th id=\"T_b59bcfae_e49f_11e8_8f50_28565a51d56clevel0_row0\" class=\"row_heading level0 row0\" >Lisosia93</th> \n",
       "        <td id=\"T_b59bcfae_e49f_11e8_8f50_28565a51d56crow0_col0\" class=\"data row0 col0\" >5</td> \n",
       "        <td id=\"T_b59bcfae_e49f_11e8_8f50_28565a51d56crow0_col1\" class=\"data row0 col1\" >$3.79</td> \n",
       "        <td id=\"T_b59bcfae_e49f_11e8_8f50_28565a51d56crow0_col2\" class=\"data row0 col2\" >$18.96</td> \n",
       "    </tr>    <tr> \n",
       "        <th id=\"T_b59bcfae_e49f_11e8_8f50_28565a51d56clevel0_row1\" class=\"row_heading level0 row1\" >Idastidru52</th> \n",
       "        <td id=\"T_b59bcfae_e49f_11e8_8f50_28565a51d56crow1_col0\" class=\"data row1 col0\" >4</td> \n",
       "        <td id=\"T_b59bcfae_e49f_11e8_8f50_28565a51d56crow1_col1\" class=\"data row1 col1\" >$3.86</td> \n",
       "        <td id=\"T_b59bcfae_e49f_11e8_8f50_28565a51d56crow1_col2\" class=\"data row1 col2\" >$15.45</td> \n",
       "    </tr>    <tr> \n",
       "        <th id=\"T_b59bcfae_e49f_11e8_8f50_28565a51d56clevel0_row2\" class=\"row_heading level0 row2\" >Chamjask73</th> \n",
       "        <td id=\"T_b59bcfae_e49f_11e8_8f50_28565a51d56crow2_col0\" class=\"data row2 col0\" >3</td> \n",
       "        <td id=\"T_b59bcfae_e49f_11e8_8f50_28565a51d56crow2_col1\" class=\"data row2 col1\" >$4.61</td> \n",
       "        <td id=\"T_b59bcfae_e49f_11e8_8f50_28565a51d56crow2_col2\" class=\"data row2 col2\" >$13.83</td> \n",
       "    </tr>    <tr> \n",
       "        <th id=\"T_b59bcfae_e49f_11e8_8f50_28565a51d56clevel0_row3\" class=\"row_heading level0 row3\" >Iral74</th> \n",
       "        <td id=\"T_b59bcfae_e49f_11e8_8f50_28565a51d56crow3_col0\" class=\"data row3 col0\" >4</td> \n",
       "        <td id=\"T_b59bcfae_e49f_11e8_8f50_28565a51d56crow3_col1\" class=\"data row3 col1\" >$3.40</td> \n",
       "        <td id=\"T_b59bcfae_e49f_11e8_8f50_28565a51d56crow3_col2\" class=\"data row3 col2\" >$13.62</td> \n",
       "    </tr>    <tr> \n",
       "        <th id=\"T_b59bcfae_e49f_11e8_8f50_28565a51d56clevel0_row4\" class=\"row_heading level0 row4\" >Iskadarya95</th> \n",
       "        <td id=\"T_b59bcfae_e49f_11e8_8f50_28565a51d56crow4_col0\" class=\"data row4 col0\" >3</td> \n",
       "        <td id=\"T_b59bcfae_e49f_11e8_8f50_28565a51d56crow4_col1\" class=\"data row4 col1\" >$4.37</td> \n",
       "        <td id=\"T_b59bcfae_e49f_11e8_8f50_28565a51d56crow4_col2\" class=\"data row4 col2\" >$13.10</td> \n",
       "    </tr></tbody> \n",
       "</table> "
      ],
      "text/plain": [
       "<pandas.io.formats.style.Styler at 0x21999d315f8>"
      ]
     },
     "execution_count": 57,
     "metadata": {},
     "output_type": "execute_result"
    }
   ],
   "source": [
    "sn_total_purchase = purchase_data.groupby('SN')['Price'].sum().to_frame()\n",
    "sn_purchase_count = purchase_data.groupby('SN')['Price'].count().to_frame()\n",
    "sn_purchase_avg = purchase_data.groupby('SN')['Price'].mean().to_frame()\n",
    "\n",
    "sn_total_purchase.columns=[\"Total Purchase Value\"]\n",
    "join_one = sn_total_purchase.join(sn_purchase_count, how=\"left\")\n",
    "join_one.columns=[\"Total Purchase Value\", \"Purchase Count\"]\n",
    "\n",
    "join_two = join_one.join(sn_purchase_avg, how=\"inner\")\n",
    "join_two.columns=[\"Total Purchase Value\", \"Purchase Count\", \"Average Purchase Price\"]\n",
    "\n",
    "join_df = join_two[[\"Purchase Count\", \"Average Purchase Price\", \"Total Purchase Value\"]]\n",
    "join_summary = join_df.sort_values('Total Purchase Value', ascending=False).head()\n",
    "join_summary.style.format({\"Average Purchase Price\": \"${:.2f}\", \"Total Purchase Value\": \"${:.2f}\"})"
   ]
  },
  {
   "cell_type": "markdown",
   "metadata": {},
   "source": [
    "## Most Popular Items"
   ]
  },
  {
   "cell_type": "markdown",
   "metadata": {},
   "source": [
    "* Retrieve the Item ID, Item Name, and Item Price columns\n",
    "\n",
    "\n",
    "* Group by Item ID and Item Name. Perform calculations to obtain purchase count, item price, and total purchase value\n",
    "\n",
    "\n",
    "* Create a summary data frame to hold the results\n",
    "\n",
    "\n",
    "* Sort the purchase count column in descending order\n",
    "\n",
    "\n",
    "* Optional: give the displayed data cleaner formatting\n",
    "\n",
    "\n",
    "* Display a preview of the summary data frame\n",
    "\n"
   ]
  },
  {
   "cell_type": "code",
   "execution_count": 61,
   "metadata": {},
   "outputs": [
    {
     "data": {
      "text/html": [
       "<style  type=\"text/css\" >\n",
       "</style>  \n",
       "<table id=\"T_499a0a28_e4a2_11e8_a1d2_28565a51d56c\" > \n",
       "<thead>    <tr> \n",
       "        <th class=\"blank\" ></th> \n",
       "        <th class=\"blank level0\" ></th> \n",
       "        <th class=\"col_heading level0 col0\" >Purchase Count</th> \n",
       "        <th class=\"col_heading level0 col1\" >Item Price</th> \n",
       "        <th class=\"col_heading level0 col2\" >Total Purchase Value</th> \n",
       "    </tr>    <tr> \n",
       "        <th class=\"index_name level0\" >Item ID</th> \n",
       "        <th class=\"index_name level1\" >Item Name</th> \n",
       "        <th class=\"blank\" ></th> \n",
       "        <th class=\"blank\" ></th> \n",
       "        <th class=\"blank\" ></th> \n",
       "    </tr></thead> \n",
       "<tbody>    <tr> \n",
       "        <th id=\"T_499a0a28_e4a2_11e8_a1d2_28565a51d56clevel0_row0\" class=\"row_heading level0 row0\" >178</th> \n",
       "        <th id=\"T_499a0a28_e4a2_11e8_a1d2_28565a51d56clevel1_row0\" class=\"row_heading level1 row0\" >Oathbreaker, Last Hope of the Breaking Storm</th> \n",
       "        <td id=\"T_499a0a28_e4a2_11e8_a1d2_28565a51d56crow0_col0\" class=\"data row0 col0\" >12</td> \n",
       "        <td id=\"T_499a0a28_e4a2_11e8_a1d2_28565a51d56crow0_col1\" class=\"data row0 col1\" >$4.23</td> \n",
       "        <td id=\"T_499a0a28_e4a2_11e8_a1d2_28565a51d56crow0_col2\" class=\"data row0 col2\" >$50.76</td> \n",
       "    </tr>    <tr> \n",
       "        <th id=\"T_499a0a28_e4a2_11e8_a1d2_28565a51d56clevel0_row1\" class=\"row_heading level0 row1\" >82</th> \n",
       "        <th id=\"T_499a0a28_e4a2_11e8_a1d2_28565a51d56clevel1_row1\" class=\"row_heading level1 row1\" >Nirvana</th> \n",
       "        <td id=\"T_499a0a28_e4a2_11e8_a1d2_28565a51d56crow1_col0\" class=\"data row1 col0\" >9</td> \n",
       "        <td id=\"T_499a0a28_e4a2_11e8_a1d2_28565a51d56crow1_col1\" class=\"data row1 col1\" >$4.90</td> \n",
       "        <td id=\"T_499a0a28_e4a2_11e8_a1d2_28565a51d56crow1_col2\" class=\"data row1 col2\" >$44.10</td> \n",
       "    </tr>    <tr> \n",
       "        <th id=\"T_499a0a28_e4a2_11e8_a1d2_28565a51d56clevel0_row2\" class=\"row_heading level0 row2\" >145</th> \n",
       "        <th id=\"T_499a0a28_e4a2_11e8_a1d2_28565a51d56clevel1_row2\" class=\"row_heading level1 row2\" >Fiery Glass Crusader</th> \n",
       "        <td id=\"T_499a0a28_e4a2_11e8_a1d2_28565a51d56crow2_col0\" class=\"data row2 col0\" >9</td> \n",
       "        <td id=\"T_499a0a28_e4a2_11e8_a1d2_28565a51d56crow2_col1\" class=\"data row2 col1\" >$4.58</td> \n",
       "        <td id=\"T_499a0a28_e4a2_11e8_a1d2_28565a51d56crow2_col2\" class=\"data row2 col2\" >$41.22</td> \n",
       "    </tr>    <tr> \n",
       "        <th id=\"T_499a0a28_e4a2_11e8_a1d2_28565a51d56clevel0_row3\" class=\"row_heading level0 row3\" >108</th> \n",
       "        <th id=\"T_499a0a28_e4a2_11e8_a1d2_28565a51d56clevel1_row3\" class=\"row_heading level1 row3\" >Extraction, Quickblade Of Trembling Hands</th> \n",
       "        <td id=\"T_499a0a28_e4a2_11e8_a1d2_28565a51d56crow3_col0\" class=\"data row3 col0\" >9</td> \n",
       "        <td id=\"T_499a0a28_e4a2_11e8_a1d2_28565a51d56crow3_col1\" class=\"data row3 col1\" >$3.53</td> \n",
       "        <td id=\"T_499a0a28_e4a2_11e8_a1d2_28565a51d56crow3_col2\" class=\"data row3 col2\" >$31.77</td> \n",
       "    </tr>    <tr> \n",
       "        <th id=\"T_499a0a28_e4a2_11e8_a1d2_28565a51d56clevel0_row4\" class=\"row_heading level0 row4\" >103</th> \n",
       "        <th id=\"T_499a0a28_e4a2_11e8_a1d2_28565a51d56clevel1_row4\" class=\"row_heading level1 row4\" >Singed Scalpel</th> \n",
       "        <td id=\"T_499a0a28_e4a2_11e8_a1d2_28565a51d56crow4_col0\" class=\"data row4 col0\" >8</td> \n",
       "        <td id=\"T_499a0a28_e4a2_11e8_a1d2_28565a51d56crow4_col1\" class=\"data row4 col1\" >$4.35</td> \n",
       "        <td id=\"T_499a0a28_e4a2_11e8_a1d2_28565a51d56crow4_col2\" class=\"data row4 col2\" >$34.80</td> \n",
       "    </tr>    <tr> \n",
       "        <th id=\"T_499a0a28_e4a2_11e8_a1d2_28565a51d56clevel0_row5\" class=\"row_heading level0 row5\" >60</th> \n",
       "        <th id=\"T_499a0a28_e4a2_11e8_a1d2_28565a51d56clevel1_row5\" class=\"row_heading level1 row5\" >Wolf</th> \n",
       "        <td id=\"T_499a0a28_e4a2_11e8_a1d2_28565a51d56crow5_col0\" class=\"data row5 col0\" >8</td> \n",
       "        <td id=\"T_499a0a28_e4a2_11e8_a1d2_28565a51d56crow5_col1\" class=\"data row5 col1\" >$3.54</td> \n",
       "        <td id=\"T_499a0a28_e4a2_11e8_a1d2_28565a51d56crow5_col2\" class=\"data row5 col2\" >$28.32</td> \n",
       "    </tr></tbody> \n",
       "</table> "
      ],
      "text/plain": [
       "<pandas.io.formats.style.Styler at 0x21999cdef28>"
      ]
     },
     "execution_count": 61,
     "metadata": {},
     "output_type": "execute_result"
    }
   ],
   "source": [
    "group_one = purchase_data.groupby(\"Item Name\").sum().reset_index()\n",
    "group_two = purchase_data.groupby(\"Item ID\").sum().reset_index()\n",
    "group_three = purchase_data.groupby(\"Item Name\").count().reset_index()\n",
    "\n",
    "\n",
    "mergeone = pd.merge(group_one, group_two, on=\"Price\")\n",
    "mergetwo = pd.merge(group_three, mergeone, on=\"Item Name\")\n",
    "\n",
    "mergetwo[\"Gender\"] = (mergetwo[\"Price_y\"]/mergetwo[\"Item ID\"]).round(2)\n",
    "\n",
    "mergetwo_renamed = mergetwo.rename(columns={\"Age\": \"Purchase Count\", \"Gender\": \"Item Price\", \"Item ID\": \"null\", \"Price_y\": \"Total Purchase Value\", \"Item ID_y\": \"Item ID\"})\n",
    "\n",
    "clean_df = mergetwo_renamed[[\"Item ID\", \"Item Name\", \"Purchase Count\", \"Item Price\", \"Total Purchase Value\"]]\n",
    "\n",
    "new_df = clean_df.set_index(['Item ID', 'Item Name'])\n",
    "summary_df = new_df.sort_values('Purchase Count', ascending=False).head(6)\n",
    "summary_df.style.format({\"Item Price\": \"${:.2f}\", \"Total Purchase Value\": \"${:.2f}\"})"
   ]
  },
  {
   "cell_type": "markdown",
   "metadata": {},
   "source": [
    "## Most Profitable Items"
   ]
  },
  {
   "cell_type": "markdown",
   "metadata": {},
   "source": [
    "* Sort the above table by total purchase value in descending order\n",
    "\n",
    "\n",
    "* Optional: give the displayed data cleaner formatting\n",
    "\n",
    "\n",
    "* Display a preview of the data frame\n",
    "\n"
   ]
  },
  {
   "cell_type": "code",
   "execution_count": 62,
   "metadata": {
    "scrolled": true
   },
   "outputs": [
    {
     "data": {
      "text/html": [
       "<style  type=\"text/css\" >\n",
       "</style>  \n",
       "<table id=\"T_62b14246_e4a2_11e8_b175_28565a51d56c\" > \n",
       "<thead>    <tr> \n",
       "        <th class=\"blank\" ></th> \n",
       "        <th class=\"blank level0\" ></th> \n",
       "        <th class=\"col_heading level0 col0\" >Purchase Count</th> \n",
       "        <th class=\"col_heading level0 col1\" >Item Price</th> \n",
       "        <th class=\"col_heading level0 col2\" >Total Purchase Value</th> \n",
       "    </tr>    <tr> \n",
       "        <th class=\"index_name level0\" >Item ID</th> \n",
       "        <th class=\"index_name level1\" >Item Name</th> \n",
       "        <th class=\"blank\" ></th> \n",
       "        <th class=\"blank\" ></th> \n",
       "        <th class=\"blank\" ></th> \n",
       "    </tr></thead> \n",
       "<tbody>    <tr> \n",
       "        <th id=\"T_62b14246_e4a2_11e8_b175_28565a51d56clevel0_row0\" class=\"row_heading level0 row0\" >178</th> \n",
       "        <th id=\"T_62b14246_e4a2_11e8_b175_28565a51d56clevel1_row0\" class=\"row_heading level1 row0\" >Oathbreaker, Last Hope of the Breaking Storm</th> \n",
       "        <td id=\"T_62b14246_e4a2_11e8_b175_28565a51d56crow0_col0\" class=\"data row0 col0\" >12</td> \n",
       "        <td id=\"T_62b14246_e4a2_11e8_b175_28565a51d56crow0_col1\" class=\"data row0 col1\" >$4.23</td> \n",
       "        <td id=\"T_62b14246_e4a2_11e8_b175_28565a51d56crow0_col2\" class=\"data row0 col2\" >$50.76</td> \n",
       "    </tr>    <tr> \n",
       "        <th id=\"T_62b14246_e4a2_11e8_b175_28565a51d56clevel0_row1\" class=\"row_heading level0 row1\" >82</th> \n",
       "        <th id=\"T_62b14246_e4a2_11e8_b175_28565a51d56clevel1_row1\" class=\"row_heading level1 row1\" >Nirvana</th> \n",
       "        <td id=\"T_62b14246_e4a2_11e8_b175_28565a51d56crow1_col0\" class=\"data row1 col0\" >9</td> \n",
       "        <td id=\"T_62b14246_e4a2_11e8_b175_28565a51d56crow1_col1\" class=\"data row1 col1\" >$4.90</td> \n",
       "        <td id=\"T_62b14246_e4a2_11e8_b175_28565a51d56crow1_col2\" class=\"data row1 col2\" >$44.10</td> \n",
       "    </tr>    <tr> \n",
       "        <th id=\"T_62b14246_e4a2_11e8_b175_28565a51d56clevel0_row2\" class=\"row_heading level0 row2\" >145</th> \n",
       "        <th id=\"T_62b14246_e4a2_11e8_b175_28565a51d56clevel1_row2\" class=\"row_heading level1 row2\" >Fiery Glass Crusader</th> \n",
       "        <td id=\"T_62b14246_e4a2_11e8_b175_28565a51d56crow2_col0\" class=\"data row2 col0\" >9</td> \n",
       "        <td id=\"T_62b14246_e4a2_11e8_b175_28565a51d56crow2_col1\" class=\"data row2 col1\" >$4.58</td> \n",
       "        <td id=\"T_62b14246_e4a2_11e8_b175_28565a51d56crow2_col2\" class=\"data row2 col2\" >$41.22</td> \n",
       "    </tr>    <tr> \n",
       "        <th id=\"T_62b14246_e4a2_11e8_b175_28565a51d56clevel0_row3\" class=\"row_heading level0 row3\" >103</th> \n",
       "        <th id=\"T_62b14246_e4a2_11e8_b175_28565a51d56clevel1_row3\" class=\"row_heading level1 row3\" >Singed Scalpel</th> \n",
       "        <td id=\"T_62b14246_e4a2_11e8_b175_28565a51d56crow3_col0\" class=\"data row3 col0\" >8</td> \n",
       "        <td id=\"T_62b14246_e4a2_11e8_b175_28565a51d56crow3_col1\" class=\"data row3 col1\" >$4.35</td> \n",
       "        <td id=\"T_62b14246_e4a2_11e8_b175_28565a51d56crow3_col2\" class=\"data row3 col2\" >$34.80</td> \n",
       "    </tr>    <tr> \n",
       "        <th id=\"T_62b14246_e4a2_11e8_b175_28565a51d56clevel0_row4\" class=\"row_heading level0 row4\" >108</th> \n",
       "        <th id=\"T_62b14246_e4a2_11e8_b175_28565a51d56clevel1_row4\" class=\"row_heading level1 row4\" >Extraction, Quickblade Of Trembling Hands</th> \n",
       "        <td id=\"T_62b14246_e4a2_11e8_b175_28565a51d56crow4_col0\" class=\"data row4 col0\" >9</td> \n",
       "        <td id=\"T_62b14246_e4a2_11e8_b175_28565a51d56crow4_col1\" class=\"data row4 col1\" >$3.53</td> \n",
       "        <td id=\"T_62b14246_e4a2_11e8_b175_28565a51d56crow4_col2\" class=\"data row4 col2\" >$31.77</td> \n",
       "    </tr></tbody> \n",
       "</table> "
      ],
      "text/plain": [
       "<pandas.io.formats.style.Styler at 0x21999d092b0>"
      ]
     },
     "execution_count": 62,
     "metadata": {},
     "output_type": "execute_result"
    }
   ],
   "source": [
    "preview_summary = summary_df.sort_values('Total Purchase Value', ascending=False).head()\n",
    "preview_summary.style.format({\"Item Price\": \"${:.2f}\", \"Total Purchase Value\": \"${:.2f}\"})"
   ]
  },
  {
   "cell_type": "code",
   "execution_count": null,
   "metadata": {},
   "outputs": [],
   "source": []
  }
 ],
 "metadata": {
  "anaconda-cloud": {},
  "kernel_info": {
   "name": "python3"
  },
  "kernelspec": {
   "display_name": "Python 3",
   "language": "python",
   "name": "python3"
  },
  "language_info": {
   "codemirror_mode": {
    "name": "ipython",
    "version": 3
   },
   "file_extension": ".py",
   "mimetype": "text/x-python",
   "name": "python",
   "nbconvert_exporter": "python",
   "pygments_lexer": "ipython3",
   "version": "3.6.6"
  },
  "nteract": {
   "version": "0.2.0"
  }
 },
 "nbformat": 4,
 "nbformat_minor": 2
}
